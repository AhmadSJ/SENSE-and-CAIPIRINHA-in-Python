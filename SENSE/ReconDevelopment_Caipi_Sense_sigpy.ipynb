{
 "cells": [
  {
   "cell_type": "code",
   "execution_count": 1,
   "metadata": {},
   "outputs": [],
   "source": [
    "import numpy as np\n",
    "import matplotlib.pyplot as plt\n",
    "import sys, os\n",
    "from scipy.io import loadmat\n",
    "from scipy.io import savemat\n",
    "import h5py\n",
    "sys.path.append('/home/jamalzada/.conda/envs/anal/lib/python3.6/site-packages')\n",
    "import sigpy as sp\n",
    "import sigpy.mri as mr\n",
    "import sigpy.plot  as pl\n",
    "import numpy.testing as npt\n",
    "from bart import bart\n",
    "import matlab.engine as me\n",
    "import glob\n",
    "import matlab\n",
    "from joblib import Parallel, delayed"
   ]
  },
  {
   "cell_type": "code",
   "execution_count": 2,
   "metadata": {},
   "outputs": [],
   "source": [
    "def caipi(r,ry,shifts):\n",
    "    \"\"\"Generates Caipirinha binary unit cells on sheared grids that form periodic lattices\n",
    "    \n",
    "    Parameters:\n",
    "        r (int): total acceleration factor\n",
    "        ry (int): acceleration factor in the y-direction\n",
    "        shifts (list), (numpy array): size of shifts in the z-direction\n",
    "    \n",
    "    Returns:\n",
    "        3D numpy array [shifts, ry, rz] containing the patterns\n",
    "        \n",
    "    \n",
    "    \"\"\"\n",
    "    rz = int(r/ry)\n",
    "    patterns = np.zeros((len(shifts),r,r))\n",
    "    l = 0\n",
    "    for i, shift in enumerate(shifts):\n",
    "        cell = np.zeros((r,r))\n",
    "        for row in range(rz):\n",
    "            if (shift*row+rz)>= r:\n",
    "                l = (shift*row%r+rz)%rz\n",
    "            else:\n",
    "                l = shift*row\n",
    "            cell[row*ry,l::rz]=1\n",
    "        patterns[i] = np.copy(cell)\n",
    "    return patterns"
   ]
  },
  {
   "cell_type": "code",
   "execution_count": 3,
   "metadata": {},
   "outputs": [],
   "source": [
    "def read_matlab(filename):\n",
    "    \"\"\"Load .mat file\n",
    "    \"\"\"\n",
    "    def conv(path=''):\n",
    "        p = path or '/'\n",
    "        paths[p] = ret = {}\n",
    "        for k, v in f[p].items():\n",
    "            if type(v).__name__ == 'Group':\n",
    "                ret[k] = conv(f'{path}/{k}')  # Nested struct\n",
    "                continue\n",
    "            v = v[()]  # It's a Numpy array now\n",
    "            if v.dtype == 'object':\n",
    "                # HDF5ObjectReferences are converted into a list of actual pointers\n",
    "                ret[k] = [r and paths.get(f[r].name, f[r].name) for r in v.flat]\n",
    "            else:\n",
    "                # Matrices and other numeric arrays\n",
    "                ret[k] = v if v.ndim < 2 else v.swapaxes(-1, -2)\n",
    "        return ret\n",
    "\n",
    "    paths = {}\n",
    "    with h5py.File(filename, 'r') as f:\n",
    "        return conv()"
   ]
  },
  {
   "cell_type": "code",
   "execution_count": 4,
   "metadata": {},
   "outputs": [],
   "source": [
    "def plot_patterns(matrix,rows=8, cmap='gray'):\n",
    "    n_patterns = len(matrix)\n",
    "    R = matrix.shape[1]\n",
    "    k = int(n_patterns/rows)+((n_patterns%rows)>0)\n",
    "    s = np.arange(n_patterns)+1\n",
    "    plt.figure(figsize=(12,10))\n",
    "    for i in np.arange(n_patterns):\n",
    "        plt.subplot(k,rows,s[i])\n",
    "        plt.imshow(matrix[i],cmap=cmap)\n",
    "        plt.title('$\\Delta=$ {}'.format(i))\n",
    "        ax = plt.gca();\n",
    "\n",
    "        # Major ticks\n",
    "        ax.set_xticks([]);\n",
    "        ax.set_yticks([]);\n",
    "\n",
    "        # Labels for major ticks\n",
    "        ax.set_xticklabels([]);\n",
    "        ax.set_yticklabels([]);\n",
    "\n",
    "        # Minor ticks\n",
    "        ax.set_xticks([], minor=True);\n",
    "        ax.set_yticks([], minor=True);\n",
    "\n",
    "        # Gridlines based on minor ticks\n",
    "        ax.grid(which='minor', color='w', linestyle='-', linewidth=1)\n"
   ]
  },
  {
   "cell_type": "code",
   "execution_count": 5,
   "metadata": {},
   "outputs": [],
   "source": [
    "def plot_caipi(matrix, shifts,rows=8):\n",
    "    n_patterns = len(matrix)\n",
    "    R = matrix.shape[1]\n",
    "    k = int(n_patterns/rows)+((n_patterns%rows)>0)\n",
    "    s = np.array(shifts)+1\n",
    "    plt.figure(figsize=(16,8))\n",
    "    for i in np.arange(n_patterns):\n",
    "        plt.subplot(k,rows,s[i])\n",
    "        plt.imshow(matrix[i])\n",
    "        plt.title('$\\Delta=$ {}'.format(shifts[i]))\n",
    "        ax = plt.gca();\n",
    "\n",
    "        # Major ticks\n",
    "        ax.set_xticks(np.arange(0, R, 1));\n",
    "        ax.set_yticks(np.arange(0, R, 1));\n",
    "\n",
    "        # Labels for major ticks\n",
    "        ax.set_xticklabels(np.arange(1, R+1, 1));\n",
    "        ax.set_yticklabels(np.arange(1, R+1, 1));\n",
    "\n",
    "        # Minor ticks\n",
    "        ax.set_xticks(np.arange(-.5, R, 1), minor=True);\n",
    "        ax.set_yticks(np.arange(-.5, R, 1), minor=True);\n",
    "\n",
    "        # Gridlines based on minor ticks\n",
    "        ax.grid(which='minor', color='w', linestyle='-', linewidth=1)\n",
    "def swap(array,ind = 0):\n",
    "    if array.ndim==3:\n",
    "        if ind == 0:\n",
    "            nc, x, y = array.shape\n",
    "            h_array = np.zeros((x,y,nc),dtype=complex)\n",
    "            for i in range(nc):\n",
    "                h_array[:,:,i] = np.copy(array[i])\n",
    "        else:\n",
    "            x, y, nc = array.shape\n",
    "            h_array = np.zeros((nc,x,y),dtype=complex)\n",
    "            for i in range(nc):\n",
    "                h_array[i] = np.copy(array[:,:,i])\n",
    "    elif array.ndim==4:\n",
    "        if ind == 0:\n",
    "            nc, x, y, z = array.shape\n",
    "            h_array = np.zeros((x,y,z,nc),dtype=complex)\n",
    "            for i in range(nc):\n",
    "                h_array[:,:,:,i] = np.copy(array[i])\n",
    "        else:\n",
    "            x, y, z, nc = array.shape\n",
    "            h_array = np.zeros((nc,x,y,z),dtype=complex)\n",
    "            for i in range(nc):\n",
    "                h_array[i] = np.copy(array[:,:,:,i])\n",
    "    return h_array\n"
   ]
  },
  {
   "cell_type": "code",
   "execution_count": 6,
   "metadata": {},
   "outputs": [],
   "source": [
    "path = '/home/jamalzada/Downloads/raw_data.mat'\n",
    "data = read_matlab(path)\n",
    "ksp = data['raw'].squeeze()\n",
    "sdata = loadmat('sref.mat')\n",
    "g=sdata['s_ref']"
   ]
  },
  {
   "cell_type": "code",
   "execution_count": 7,
   "metadata": {},
   "outputs": [
    {
     "data": {
      "text/plain": [
       "(96, 96, 1, 16)"
      ]
     },
     "execution_count": 7,
     "metadata": {},
     "output_type": "execute_result"
    }
   ],
   "source": [
    "g.shape"
   ]
  },
  {
   "cell_type": "code",
   "execution_count": null,
   "metadata": {},
   "outputs": [],
   "source": []
  }
 ],
 "metadata": {
  "kernelspec": {
   "display_name": "Python 3",
   "language": "python",
   "name": "python3"
  },
  "language_info": {
   "codemirror_mode": {
    "name": "ipython",
    "version": 3
   },
   "file_extension": ".py",
   "mimetype": "text/x-python",
   "name": "python",
   "nbconvert_exporter": "python",
   "pygments_lexer": "ipython3",
   "version": "3.6.5"
  },
  "varInspector": {
   "cols": {
    "lenName": 16,
    "lenType": 16,
    "lenVar": 40
   },
   "kernels_config": {
    "python": {
     "delete_cmd_postfix": "",
     "delete_cmd_prefix": "del ",
     "library": "var_list.py",
     "varRefreshCmd": "print(var_dic_list())"
    },
    "r": {
     "delete_cmd_postfix": ") ",
     "delete_cmd_prefix": "rm(",
     "library": "var_list.r",
     "varRefreshCmd": "cat(var_dic_list()) "
    }
   },
   "types_to_exclude": [
    "module",
    "function",
    "builtin_function_or_method",
    "instance",
    "_Feature"
   ],
   "window_display": false
  }
 },
 "nbformat": 4,
 "nbformat_minor": 2
}
