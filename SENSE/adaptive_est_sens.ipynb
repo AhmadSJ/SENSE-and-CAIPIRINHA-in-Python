{
 "cells": [
  {
   "cell_type": "code",
   "execution_count": 1,
   "metadata": {},
   "outputs": [],
   "source": [
    "import numpy as np\n",
    "import matplotlib.pyplot as plt\n",
    "\n",
    "from scipy.io import loadmat\n",
    "import handy\n",
    "import sys, os\n",
    "import sigpy as sp\n",
    "import scipy\n",
    "from joblib import Parallel, delayed\n",
    "import time"
   ]
  },
  {
   "cell_type": "code",
   "execution_count": 2,
   "metadata": {},
   "outputs": [],
   "source": [
    "shelp = loadmat('sref.mat')\n",
    "csm = shelp['s_ref']\n",
    "data = handy.read_matlab('raw_data.mat')\n",
    "ksp = data['raw']\n",
    "raw = ksp['real']+1j*ksp['imag']\n"
   ]
  },
  {
   "cell_type": "code",
   "execution_count": 48,
   "metadata": {},
   "outputs": [
    {
     "name": "stdout",
     "output_type": "stream",
     "text": [
      "1 2\n",
      "2 3\n",
      "0 1\n",
      "1 2\n",
      "2 3\n"
     ]
    },
    {
     "data": {
      "text/plain": [
       "(96, 96, 1, 16)"
      ]
     },
     "execution_count": 48,
     "metadata": {},
     "output_type": "execute_result"
    }
   ],
   "source": [
    "img = (sp.ifft(raw, axes = (2,3)))\n",
    "img.shape\n",
    "img = permute(permute(img,[3,1]),[3,0])\n",
    "img.shape"
   ]
  },
  {
   "cell_type": "code",
   "execution_count": 49,
   "metadata": {},
   "outputs": [],
   "source": [
    "#handy.plot_patterns(abs(img),4,'jet')"
   ]
  },
  {
   "cell_type": "code",
   "execution_count": 50,
   "metadata": {
    "scrolled": false
   },
   "outputs": [],
   "source": [
    "#handy.plot_patterns(abs(handy.swappy(csm)).squeeze(),4,'jet')"
   ]
  },
  {
   "cell_type": "code",
   "execution_count": 51,
   "metadata": {},
   "outputs": [],
   "source": [
    "def adaptive_sense(kspace, w = 5):\n",
    "    \"\"\"Approximate CSM maps; W. Marcellin, Adaptive Reconstruction of Phased Array MR Imagery\n",
    "    Parameters:\n",
    "        kspace (np.array): matrix containing the data\n",
    "        w (int): size of kernel\n",
    "    Returns:\n",
    "        CSM (np.array): numpy array of size Nx, Ny, Nz, Nc containing the CSM maps\n",
    "    \"\"\"\n",
    "    img = np.copy(kspace)\n",
    "    Nx,Ny,Nz,Nc = img.shape\n",
    "    S = np.zeros((Nx,Ny,Nz,Nc),dtype=complex)\n",
    "    M = np.zeros((Nx,Ny,Nz),dtype=complex)\n",
    "    for i in np.arange(Nx):\n",
    "        ii = np.arange(np.max((i-w,0)),np.min((i+w+1,Nx)))\n",
    "        for j in np.arange(Ny):\n",
    "            jj = np.arange(np.max((j-w,0)),np.min((j+w+1,Ny)))\n",
    "            for k in np.arange(Nz):\n",
    "                kk = np.arange(np.max((k-w,0)),np.min((k+w+1,Nz)))\n",
    "                coord = np.ix_(ii,jj,kk)\n",
    "                kernel = np.reshape(img[coord],(-1,Nc))\n",
    "                e, vr = np.linalg.eig(np.conj(kernel.conj().T@kernel))\n",
    "                largest = np.argmax(e)\n",
    "                D = e[largest]\n",
    "                V = vr[:,largest]\n",
    "                S[i,j,k,:] = V*np.exp(-1j*np.angle(V[0]))\n",
    "                M[i,j,k] = np.sqrt(D)\n",
    "    CSM=S*(M>(0.1*np.max(M)))[:,:,:,None]\n",
    "    return CSM"
   ]
  },
  {
   "cell_type": "code",
   "execution_count": 52,
   "metadata": {},
   "outputs": [
    {
     "name": "stdout",
     "output_type": "stream",
     "text": [
      "0.0\n"
     ]
    }
   ],
   "source": [
    "dis = np.repeat(img,20,axis=2)\n",
    "start = time.time()\n",
    "#data = adaptive_sense(dis)\n",
    "print(time.time()-start)"
   ]
  },
  {
   "cell_type": "code",
   "execution_count": 53,
   "metadata": {},
   "outputs": [
    {
     "ename": "AttributeError",
     "evalue": "'dict' object has no attribute 'squeeze'",
     "output_type": "error",
     "traceback": [
      "\u001b[1;31m---------------------------------------------------------------------------\u001b[0m",
      "\u001b[1;31mAttributeError\u001b[0m                            Traceback (most recent call last)",
      "\u001b[1;32m<ipython-input-53-3c0cd9dd09f8>\u001b[0m in \u001b[0;36m<module>\u001b[1;34m\u001b[0m\n\u001b[1;32m----> 1\u001b[1;33m \u001b[0mhandy\u001b[0m\u001b[1;33m.\u001b[0m\u001b[0mplot_patterns\u001b[0m\u001b[1;33m(\u001b[0m\u001b[0mhandy\u001b[0m\u001b[1;33m.\u001b[0m\u001b[0mswappy\u001b[0m\u001b[1;33m(\u001b[0m\u001b[0mabs\u001b[0m\u001b[1;33m(\u001b[0m\u001b[0mdata\u001b[0m\u001b[1;33m.\u001b[0m\u001b[0msqueeze\u001b[0m\u001b[1;33m(\u001b[0m\u001b[1;33m)\u001b[0m\u001b[1;33m[\u001b[0m\u001b[1;33m:\u001b[0m\u001b[1;33m,\u001b[0m\u001b[1;33m:\u001b[0m\u001b[1;33m,\u001b[0m\u001b[1;36m10\u001b[0m\u001b[1;33m]\u001b[0m\u001b[1;33m)\u001b[0m\u001b[1;33m)\u001b[0m\u001b[1;33m,\u001b[0m\u001b[1;36m4\u001b[0m\u001b[1;33m,\u001b[0m\u001b[1;34m'jet'\u001b[0m\u001b[1;33m)\u001b[0m\u001b[1;33m\u001b[0m\u001b[1;33m\u001b[0m\u001b[0m\n\u001b[0m",
      "\u001b[1;31mAttributeError\u001b[0m: 'dict' object has no attribute 'squeeze'"
     ]
    }
   ],
   "source": [
    "handy.plot_patterns(handy.swappy(abs(data.squeeze()[:,:,10])),4,'jet')"
   ]
  },
  {
   "cell_type": "code",
   "execution_count": 54,
   "metadata": {},
   "outputs": [],
   "source": [
    "def func():\n",
    "    m=np.random.rand(6,6)*10\n",
    "    s=np.zeros((100*100*100,6,6))\n",
    "    for i in range(10):\n",
    "        for j in range(10):\n",
    "            for k in range(10):\n",
    "                s[i] = scipy.linalg.expm(m)\n",
    "    return s\n"
   ]
  },
  {
   "cell_type": "code",
   "execution_count": null,
   "metadata": {},
   "outputs": [],
   "source": [
    "\n",
    "Nx,Ny,Nz,Nc = img.shape\n",
    "S = np.zeros((Nx,Ny,Nz,Nc),dtype=complex)\n",
    "M = np.zeros((Nx,Ny,Nz),dtype=complex)\n",
    "for i in np.arange(Nx):\n",
    "    ii = np.arange(np.max((i-w,0)),np.min((i+w+1,Nx)))\n",
    "    for j in np.arange(Ny):\n",
    "        jj = np.arange(np.max((j-w,0)),np.min((j+w+1,Ny)))\n",
    "        for k in np.arange(Nz):\n",
    "            kk = np.arange(np.max((k-w,0)),np.min((k+w+1,Nz)))\n",
    "            coord = np.ix_(ii,jj,kk)\n",
    "            kernel = np.reshape(img[coord],(-1,Nc))\n",
    "            e, vr = np.linalg.eig(np.conj(kernel.conj().T@kernel))\n",
    "            \n",
    "            largest = np.argmax(e)\n",
    "            D = e[largest]\n",
    "            V = vr[:,largest]\n",
    "            S[i,j,k,:] = V*np.exp(-1j*np.angle(V[0]))\n",
    "            M[i,j,k] = np.sqrt(D)\n",
    "CSM=S*(M>(0.1*np.max(M)))[:,:,:,None]"
   ]
  },
  {
   "cell_type": "code",
   "execution_count": null,
   "metadata": {},
   "outputs": [],
   "source": [
    "%timeit adaptive_sense(img,w=5)"
   ]
  },
  {
   "cell_type": "code",
   "execution_count": 56,
   "metadata": {},
   "outputs": [],
   "source": [
    "def func(img,i,j,k,w=5):\n",
    "    ii = np.arange(np.max((i-w,0)),np.min((i+w+1,Nx)))\n",
    "    jj = np.arange(np.max((j-w,0)),np.min((j+w+1,Ny)))\n",
    "    kk = np.arange(np.max((k-w,0)),np.min((k+w+1,Nz)))\n",
    "    coord = np.ix_(ii,jj,kk)\n",
    "    kernel = np.reshape(img[coord],(-1,Nc))\n",
    "    e, vr = np.linalg.eig(np.conj(kernel.conj().T@kernel))\n",
    "    largest = np.argmax(e)\n",
    "    D = e[largest]\n",
    "    V = vr[:,largest]\n",
    "    return (V*np.exp(-1j*np.angle(V[0])), np.sqrt(D),[i,j,k])"
   ]
  },
  {
   "cell_type": "code",
   "execution_count": 57,
   "metadata": {},
   "outputs": [
    {
     "name": "stdout",
     "output_type": "stream",
     "text": [
      "43.4930739402771\n"
     ]
    }
   ],
   "source": [
    "start = time.time()\n",
    "Nx,Ny,Nz,Nc = dis.shape\n",
    "csm_pll = Parallel(n_jobs=-1)(delayed(func)(dis,i,j,k,5) for i in np.arange(Nx) for j in np.arange(Ny) for k in np.arange(Nz))\n",
    "print(time.time()-start)"
   ]
  },
  {
   "cell_type": "code",
   "execution_count": 65,
   "metadata": {},
   "outputs": [],
   "source": [
    "S = np.zeros((Nx,Ny,Nz,Nc),dtype=complex)\n",
    "M = np.zeros((Nx,Ny,Nz),dtype=complex)\n",
    "for i in csm_pll:\n",
    "    c = i[2]\n",
    "    S[c[0],c[1],c[2],:] = i[0]\n",
    "    M[c[0],c[1],c[2]] = i[1]\n",
    "CSM=S*(M>(0.1*np.max(M)))[:,:,:,None]"
   ]
  },
  {
   "cell_type": "code",
   "execution_count": 69,
   "metadata": {},
   "outputs": [],
   "source": [
    "#handy.plot_patterns(handy.swappy(abs(CSM.squeeze()[:,:,12])),4,'jet')"
   ]
  },
  {
   "cell_type": "code",
   "execution_count": 60,
   "metadata": {},
   "outputs": [
    {
     "data": {
      "text/plain": [
       "(96, 96, 20, 16)"
      ]
     },
     "execution_count": 60,
     "metadata": {},
     "output_type": "execute_result"
    }
   ],
   "source": [
    "Nx,Ny,Nz,Nc"
   ]
  },
  {
   "cell_type": "code",
   "execution_count": 61,
   "metadata": {},
   "outputs": [
    {
     "data": {
      "text/plain": [
       "1"
      ]
     },
     "execution_count": 61,
     "metadata": {},
     "output_type": "execute_result"
    }
   ],
   "source": [
    "a = np.arange(9).reshape((3,3))\n",
    "a[0,1]"
   ]
  },
  {
   "cell_type": "code",
   "execution_count": 63,
   "metadata": {},
   "outputs": [],
   "source": [
    "def permute(array,ind):\n",
    "    mini = min(ind)\n",
    "    nswaps = abs(ind[0]-ind[1])\n",
    "    hulp = np.copy(array)\n",
    "    for i in range(nswaps):\n",
    "        print(mini+i,mini+i+1)\n",
    "        hulp = np.swapaxes(hulp,mini+i,mini+i+1)\n",
    "    return hulp"
   ]
  },
  {
   "cell_type": "code",
   "execution_count": null,
   "metadata": {},
   "outputs": [],
   "source": [
    "dis = permute(img,[1,3])\n",
    "dis.shape"
   ]
  },
  {
   "cell_type": "code",
   "execution_count": null,
   "metadata": {},
   "outputs": [],
   "source": [
    "plt.imshow(abs(hulp[0,:,0,:]))"
   ]
  }
 ],
 "metadata": {
  "kernelspec": {
   "display_name": "Python 3",
   "language": "python",
   "name": "python3"
  },
  "language_info": {
   "codemirror_mode": {
    "name": "ipython",
    "version": 3
   },
   "file_extension": ".py",
   "mimetype": "text/x-python",
   "name": "python",
   "nbconvert_exporter": "python",
   "pygments_lexer": "ipython3",
   "version": "3.7.4"
  }
 },
 "nbformat": 4,
 "nbformat_minor": 2
}
