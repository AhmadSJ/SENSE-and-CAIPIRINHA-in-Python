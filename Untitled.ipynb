{
 "cells": [
  {
   "cell_type": "code",
   "execution_count": 2,
   "metadata": {},
   "outputs": [],
   "source": [
    "import numpy as np\n",
    "import matplotlib.pyplot as plt\n",
    "from scipy.io import loadmat\n",
    "import time"
   ]
  },
  {
   "cell_type": "code",
   "execution_count": 4,
   "metadata": {},
   "outputs": [],
   "source": [
    "x = loadmat('pos1_epi80.mat')"
   ]
  },
  {
   "cell_type": "code",
   "execution_count": 6,
   "metadata": {},
   "outputs": [
    {
     "data": {
      "text/plain": [
       "dict_keys(['__header__', '__version__', '__globals__', 'csm_img', 'sense_img'])"
      ]
     },
     "execution_count": 6,
     "metadata": {},
     "output_type": "execute_result"
    }
   ],
   "source": [
    "x.keys()"
   ]
  },
  {
   "cell_type": "code",
   "execution_count": 11,
   "metadata": {},
   "outputs": [
    {
     "data": {
      "text/plain": [
       "b'MATLAB 5.0 MAT-file, Platform: PCWIN64, Created on: Thu Apr 19 11:24:57 2018'"
      ]
     },
     "execution_count": 11,
     "metadata": {},
     "output_type": "execute_result"
    }
   ],
   "source": [
    "x['__header__']"
   ]
  },
  {
   "cell_type": "code",
   "execution_count": 17,
   "metadata": {},
   "outputs": [
    {
     "data": {
      "text/plain": [
       "(68, 240, 32, 32)"
      ]
     },
     "execution_count": 17,
     "metadata": {},
     "output_type": "execute_result"
    }
   ],
   "source": [
    "x['sense_img'].shape"
   ]
  },
  {
   "cell_type": "code",
   "execution_count": 18,
   "metadata": {},
   "outputs": [
    {
     "data": {
      "text/plain": [
       "(33, 113, 32, 32)"
      ]
     },
     "execution_count": 18,
     "metadata": {},
     "output_type": "execute_result"
    }
   ],
   "source": [
    "x['csm_img'].shape"
   ]
  },
  {
   "cell_type": "code",
   "execution_count": 21,
   "metadata": {},
   "outputs": [
    {
     "data": {
      "text/plain": [
       "array([[ -6652.03 -19893.2j , -26405.4  +53894.8j ,  32055.4  +34340.3j ,\n",
       "        ..., -34913.4  +17741.2j ,  16203.6  +13446.4j ,\n",
       "         92467.5  -72269.9j ],\n",
       "       [ -1640.2  -47943.7j ,  57642.4  +42550.2j ,  56875.1  -17982.6j ,\n",
       "        ...,  12983.2   -6882.33j,  44872.9  +67342.7j ,\n",
       "        169171.   -66759.8j ],\n",
       "       [ 36710.7  -60400.8j ,  52752.6  +21785.1j ,  43184.2  -25418.6j ,\n",
       "        ...,  -7138.85 +19776.8j ,  41294.6    -651.05j,\n",
       "        111411.   -56897.j  ],\n",
       "       ...,\n",
       "       [-14777.4  +77624.7j , -67647.4  +11566.6j , -19350.3  +56181.9j ,\n",
       "        ...,  16157.8  -23263.6j ,  44723.2  -12831.6j ,\n",
       "        -26582.5  -63464.5j ],\n",
       "       [-27211.1 +100098.j  , -16233.8  +75411.1j ,  36914.8   +1136.j  ,\n",
       "        ...,  33049.6  -33981.1j ,  32914.9  +14087.1j ,\n",
       "         41753.3  -60405.1j ],\n",
       "       [ 26002.1  +70081.2j ,   1079.73 +74598.5j ,  63270.7  +27099.j  ,\n",
       "        ...,  35759.4  -11497.2j ,  41265.2  -14233.8j ,\n",
       "         75852.5  -39259.8j ]])"
      ]
     },
     "execution_count": 21,
     "metadata": {},
     "output_type": "execute_result"
    }
   ],
   "source": [
    "x['sense_img'][10,10,:,:]"
   ]
  },
  {
   "cell_type": "code",
   "execution_count": 24,
   "metadata": {},
   "outputs": [
    {
     "data": {
      "text/plain": [
       "<matplotlib.image.AxesImage at 0x28554b05f48>"
      ]
     },
     "execution_count": 24,
     "metadata": {},
     "output_type": "execute_result"
    },
    {
     "data": {
      "image/png": "[encoded data removed]",
      "text/plain": [
       "<Figure size 432x288 with 1 Axes>"
      ]
     },
     "metadata": {
      "needs_background": "light"
     },
     "output_type": "display_data"
    }
   ],
   "source": [
    "plt.imshow(abs(x['sense_img'][:,10,:,0]))"
   ]
  },
  {
   "cell_type": "code",
   "execution_count": null,
   "metadata": {},
   "outputs": [],
   "source": [
    "x['sense_img']"
   ]
  },
  {
   "cell_type": "code",
   "execution_count": 93,
   "metadata": {},
   "outputs": [
    {
     "data": {
      "text/plain": [
       "<matplotlib.legend.Legend at 0x1de0717acc8>"
      ]
     },
     "execution_count": 93,
     "metadata": {},
     "output_type": "execute_result"
    },
    {
     "data": {
      "image/png": "[encoded data removed]",
      "text/plain": [
       "<Figure size 432x288 with 1 Axes>"
      ]
     },
     "metadata": {},
     "output_type": "display_data"
    }
   ],
   "source": [
    "x = np.arange(0,10,0.001)\n",
    "y = 5-np.exp(-x)\n",
    "plt.xticks([])\n",
    "plt.yticks([])\n",
    "\n",
    "\n",
    "plt.xlabel('Consumption')\n",
    "plt.ylabel('Wellbeing')\n",
    "plt.axvline(4.5,ymin=0.04,ymax=0.9579,color = 'g',label = 'Moral threshold')\n",
    "plt.plot(x,y,linewidth=3, label = 'Rate of flourishing')\n",
    "plt.plot(x,np.ones(len(x))*5,'--', label = 'Saturation level')\n",
    "plt.legend()"
   ]
  },
  {
   "cell_type": "code",
   "execution_count": 2,
   "metadata": {},
   "outputs": [],
   "source": [
    "S = np.random.random((32,32))+np.random.random((32,32))*1j"
   ]
  },
  {
   "cell_type": "code",
   "execution_count": 4,
   "metadata": {},
   "outputs": [],
   "source": [
    "W = np.random.random((32,32))"
   ]
  },
  {
   "cell_type": "code",
   "execution_count": 6,
   "metadata": {},
   "outputs": [],
   "source": [
    "s = np.diag(S)"
   ]
  },
  {
   "cell_type": "code",
   "execution_count": 8,
   "metadata": {},
   "outputs": [
    {
     "data": {
      "text/plain": [
       "(32,)"
      ]
     },
     "execution_count": 8,
     "metadata": {},
     "output_type": "execute_result"
    }
   ],
   "source": [
    "S.H@np.inv(W)"
   ]
  },
  {
   "cell_type": "code",
   "execution_count": 22,
   "metadata": {},
   "outputs": [],
   "source": [
    "g=np.diag(np.linalg.inv(np.conj(S.T)@np.linalg.inv(W)@S))@np.diag(np.conj(S.T)@np.linalg.inv(W)@S)"
   ]
  },
  {
   "cell_type": "code",
   "execution_count": 24,
   "metadata": {},
   "outputs": [
    {
     "data": {
      "text/plain": [
       "(22529.876850605888-40864.619048055734j)"
      ]
     },
     "execution_count": 24,
     "metadata": {},
     "output_type": "execute_result"
    }
   ],
   "source": [
    "g"
   ]
  },
  {
   "cell_type": "code",
   "execution_count": 5,
   "metadata": {},
   "outputs": [],
   "source": [
    "L=9\n",
    "test = np.arange(L**3).reshape((L,L,L))"
   ]
  },
  {
   "cell_type": "code",
   "execution_count": 6,
   "metadata": {},
   "outputs": [
    {
     "data": {
      "text/plain": [
       "array([[[  0,   1,   2,   3,   4,   5,   6,   7,   8],\n",
       "        [  9,  10,  11,  12,  13,  14,  15,  16,  17],\n",
       "        [ 18,  19,  20,  21,  22,  23,  24,  25,  26],\n",
       "        [ 27,  28,  29,  30,  31,  32,  33,  34,  35],\n",
       "        [ 36,  37,  38,  39,  40,  41,  42,  43,  44],\n",
       "        [ 45,  46,  47,  48,  49,  50,  51,  52,  53],\n",
       "        [ 54,  55,  56,  57,  58,  59,  60,  61,  62],\n",
       "        [ 63,  64,  65,  66,  67,  68,  69,  70,  71],\n",
       "        [ 72,  73,  74,  75,  76,  77,  78,  79,  80]],\n",
       "\n",
       "       [[ 81,  82,  83,  84,  85,  86,  87,  88,  89],\n",
       "        [ 90,  91,  92,  93,  94,  95,  96,  97,  98],\n",
       "        [ 99, 100, 101, 102, 103, 104, 105, 106, 107],\n",
       "        [108, 109, 110, 111, 112, 113, 114, 115, 116],\n",
       "        [117, 118, 119, 120, 121, 122, 123, 124, 125],\n",
       "        [126, 127, 128, 129, 130, 131, 132, 133, 134],\n",
       "        [135, 136, 137, 138, 139, 140, 141, 142, 143],\n",
       "        [144, 145, 146, 147, 148, 149, 150, 151, 152],\n",
       "        [153, 154, 155, 156, 157, 158, 159, 160, 161]],\n",
       "\n",
       "       [[162, 163, 164, 165, 166, 167, 168, 169, 170],\n",
       "        [171, 172, 173, 174, 175, 176, 177, 178, 179],\n",
       "        [180, 181, 182, 183, 184, 185, 186, 187, 188],\n",
       "        [189, 190, 191, 192, 193, 194, 195, 196, 197],\n",
       "        [198, 199, 200, 201, 202, 203, 204, 205, 206],\n",
       "        [207, 208, 209, 210, 211, 212, 213, 214, 215],\n",
       "        [216, 217, 218, 219, 220, 221, 222, 223, 224],\n",
       "        [225, 226, 227, 228, 229, 230, 231, 232, 233],\n",
       "        [234, 235, 236, 237, 238, 239, 240, 241, 242]],\n",
       "\n",
       "       [[243, 244, 245, 246, 247, 248, 249, 250, 251],\n",
       "        [252, 253, 254, 255, 256, 257, 258, 259, 260],\n",
       "        [261, 262, 263, 264, 265, 266, 267, 268, 269],\n",
       "        [270, 271, 272, 273, 274, 275, 276, 277, 278],\n",
       "        [279, 280, 281, 282, 283, 284, 285, 286, 287],\n",
       "        [288, 289, 290, 291, 292, 293, 294, 295, 296],\n",
       "        [297, 298, 299, 300, 301, 302, 303, 304, 305],\n",
       "        [306, 307, 308, 309, 310, 311, 312, 313, 314],\n",
       "        [315, 316, 317, 318, 319, 320, 321, 322, 323]],\n",
       "\n",
       "       [[324, 325, 326, 327, 328, 329, 330, 331, 332],\n",
       "        [333, 334, 335, 336, 337, 338, 339, 340, 341],\n",
       "        [342, 343, 344, 345, 346, 347, 348, 349, 350],\n",
       "        [351, 352, 353, 354, 355, 356, 357, 358, 359],\n",
       "        [360, 361, 362, 363, 364, 365, 366, 367, 368],\n",
       "        [369, 370, 371, 372, 373, 374, 375, 376, 377],\n",
       "        [378, 379, 380, 381, 382, 383, 384, 385, 386],\n",
       "        [387, 388, 389, 390, 391, 392, 393, 394, 395],\n",
       "        [396, 397, 398, 399, 400, 401, 402, 403, 404]],\n",
       "\n",
       "       [[405, 406, 407, 408, 409, 410, 411, 412, 413],\n",
       "        [414, 415, 416, 417, 418, 419, 420, 421, 422],\n",
       "        [423, 424, 425, 426, 427, 428, 429, 430, 431],\n",
       "        [432, 433, 434, 435, 436, 437, 438, 439, 440],\n",
       "        [441, 442, 443, 444, 445, 446, 447, 448, 449],\n",
       "        [450, 451, 452, 453, 454, 455, 456, 457, 458],\n",
       "        [459, 460, 461, 462, 463, 464, 465, 466, 467],\n",
       "        [468, 469, 470, 471, 472, 473, 474, 475, 476],\n",
       "        [477, 478, 479, 480, 481, 482, 483, 484, 485]],\n",
       "\n",
       "       [[486, 487, 488, 489, 490, 491, 492, 493, 494],\n",
       "        [495, 496, 497, 498, 499, 500, 501, 502, 503],\n",
       "        [504, 505, 506, 507, 508, 509, 510, 511, 512],\n",
       "        [513, 514, 515, 516, 517, 518, 519, 520, 521],\n",
       "        [522, 523, 524, 525, 526, 527, 528, 529, 530],\n",
       "        [531, 532, 533, 534, 535, 536, 537, 538, 539],\n",
       "        [540, 541, 542, 543, 544, 545, 546, 547, 548],\n",
       "        [549, 550, 551, 552, 553, 554, 555, 556, 557],\n",
       "        [558, 559, 560, 561, 562, 563, 564, 565, 566]],\n",
       "\n",
       "       [[567, 568, 569, 570, 571, 572, 573, 574, 575],\n",
       "        [576, 577, 578, 579, 580, 581, 582, 583, 584],\n",
       "        [585, 586, 587, 588, 589, 590, 591, 592, 593],\n",
       "        [594, 595, 596, 597, 598, 599, 600, 601, 602],\n",
       "        [603, 604, 605, 606, 607, 608, 609, 610, 611],\n",
       "        [612, 613, 614, 615, 616, 617, 618, 619, 620],\n",
       "        [621, 622, 623, 624, 625, 626, 627, 628, 629],\n",
       "        [630, 631, 632, 633, 634, 635, 636, 637, 638],\n",
       "        [639, 640, 641, 642, 643, 644, 645, 646, 647]],\n",
       "\n",
       "       [[648, 649, 650, 651, 652, 653, 654, 655, 656],\n",
       "        [657, 658, 659, 660, 661, 662, 663, 664, 665],\n",
       "        [666, 667, 668, 669, 670, 671, 672, 673, 674],\n",
       "        [675, 676, 677, 678, 679, 680, 681, 682, 683],\n",
       "        [684, 685, 686, 687, 688, 689, 690, 691, 692],\n",
       "        [693, 694, 695, 696, 697, 698, 699, 700, 701],\n",
       "        [702, 703, 704, 705, 706, 707, 708, 709, 710],\n",
       "        [711, 712, 713, 714, 715, 716, 717, 718, 719],\n",
       "        [720, 721, 722, 723, 724, 725, 726, 727, 728]]])"
      ]
     },
     "execution_count": 6,
     "metadata": {},
     "output_type": "execute_result"
    }
   ],
   "source": [
    "test"
   ]
  },
  {
   "cell_type": "code",
   "execution_count": null,
   "metadata": {},
   "outputs": [],
   "source": []
  }
 ],
 "metadata": {
  "kernelspec": {
   "display_name": "Python 3",
   "language": "python",
   "name": "python3"
  },
  "language_info": {
   "codemirror_mode": {
    "name": "ipython",
    "version": 3
   },
   "file_extension": ".py",
   "mimetype": "text/x-python",
   "name": "python",
   "nbconvert_exporter": "python",
   "pygments_lexer": "ipython3",
   "version": "3.7.4"
  }
 },
 "nbformat": 4,
 "nbformat_minor": 2
}
