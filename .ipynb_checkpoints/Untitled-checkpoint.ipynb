{
 "cells": [
  {
   "cell_type": "code",
   "execution_count": 3,
   "metadata": {},
   "outputs": [],
   "source": [
    "import numpy as np\n",
    "import matplotlib.pyplot as plt\n",
    "from scipy.io import loadmat"
   ]
  },
  {
   "cell_type": "code",
   "execution_count": 4,
   "metadata": {},
   "outputs": [],
   "source": [
    "x = loadmat('pos1_epi80.mat')"
   ]
  },
  {
   "cell_type": "code",
   "execution_count": 6,
   "metadata": {},
   "outputs": [
    {
     "data": {
      "text/plain": [
       "dict_keys(['__header__', '__version__', '__globals__', 'csm_img', 'sense_img'])"
      ]
     },
     "execution_count": 6,
     "metadata": {},
     "output_type": "execute_result"
    }
   ],
   "source": [
    "x.keys()"
   ]
  },
  {
   "cell_type": "code",
   "execution_count": 11,
   "metadata": {},
   "outputs": [
    {
     "data": {
      "text/plain": [
       "b'MATLAB 5.0 MAT-file, Platform: PCWIN64, Created on: Thu Apr 19 11:24:57 2018'"
      ]
     },
     "execution_count": 11,
     "metadata": {},
     "output_type": "execute_result"
    }
   ],
   "source": [
    "x['__header__']"
   ]
  },
  {
   "cell_type": "code",
   "execution_count": 17,
   "metadata": {},
   "outputs": [
    {
     "data": {
      "text/plain": [
       "(68, 240, 32, 32)"
      ]
     },
     "execution_count": 17,
     "metadata": {},
     "output_type": "execute_result"
    }
   ],
   "source": [
    "x['sense_img'].shape"
   ]
  },
  {
   "cell_type": "code",
   "execution_count": 18,
   "metadata": {},
   "outputs": [
    {
     "data": {
      "text/plain": [
       "(33, 113, 32, 32)"
      ]
     },
     "execution_count": 18,
     "metadata": {},
     "output_type": "execute_result"
    }
   ],
   "source": [
    "x['csm_img'].shape"
   ]
  },
  {
   "cell_type": "code",
   "execution_count": 21,
   "metadata": {},
   "outputs": [
    {
     "data": {
      "text/plain": [
       "array([[ -6652.03 -19893.2j , -26405.4  +53894.8j ,  32055.4  +34340.3j ,\n",
       "        ..., -34913.4  +17741.2j ,  16203.6  +13446.4j ,\n",
       "         92467.5  -72269.9j ],\n",
       "       [ -1640.2  -47943.7j ,  57642.4  +42550.2j ,  56875.1  -17982.6j ,\n",
       "        ...,  12983.2   -6882.33j,  44872.9  +67342.7j ,\n",
       "        169171.   -66759.8j ],\n",
       "       [ 36710.7  -60400.8j ,  52752.6  +21785.1j ,  43184.2  -25418.6j ,\n",
       "        ...,  -7138.85 +19776.8j ,  41294.6    -651.05j,\n",
       "        111411.   -56897.j  ],\n",
       "       ...,\n",
       "       [-14777.4  +77624.7j , -67647.4  +11566.6j , -19350.3  +56181.9j ,\n",
       "        ...,  16157.8  -23263.6j ,  44723.2  -12831.6j ,\n",
       "        -26582.5  -63464.5j ],\n",
       "       [-27211.1 +100098.j  , -16233.8  +75411.1j ,  36914.8   +1136.j  ,\n",
       "        ...,  33049.6  -33981.1j ,  32914.9  +14087.1j ,\n",
       "         41753.3  -60405.1j ],\n",
       "       [ 26002.1  +70081.2j ,   1079.73 +74598.5j ,  63270.7  +27099.j  ,\n",
       "        ...,  35759.4  -11497.2j ,  41265.2  -14233.8j ,\n",
       "         75852.5  -39259.8j ]])"
      ]
     },
     "execution_count": 21,
     "metadata": {},
     "output_type": "execute_result"
    }
   ],
   "source": [
    "x['sense_img'][10,10,:,:]"
   ]
  },
  {
   "cell_type": "code",
   "execution_count": 24,
   "metadata": {},
   "outputs": [
    {
     "data": {
      "text/plain": [
       "<matplotlib.image.AxesImage at 0x28554b05f48>"
      ]
     },
     "execution_count": 24,
     "metadata": {},
     "output_type": "execute_result"
    },
    {
     "data": {
      "image/png": "[encoded data removed]",
      "text/plain": [
       "<Figure size 432x288 with 1 Axes>"
      ]
     },
     "metadata": {
      "needs_background": "light"
     },
     "output_type": "display_data"
    }
   ],
   "source": [
    "plt.imshow(abs(x['sense_img'][:,10,:,0]))"
   ]
  },
  {
   "cell_type": "code",
   "execution_count": null,
   "metadata": {},
   "outputs": [],
   "source": [
    "x['sense_img']"
   ]
  }
 ],
 "metadata": {
  "kernelspec": {
   "display_name": "Python 3",
   "language": "python",
   "name": "python3"
  },
  "language_info": {
   "codemirror_mode": {
    "name": "ipython",
    "version": 3
   },
   "file_extension": ".py",
   "mimetype": "text/x-python",
   "name": "python",
   "nbconvert_exporter": "python",
   "pygments_lexer": "ipython3",
   "version": "3.7.4"
  }
 },
 "nbformat": 4,
 "nbformat_minor": 2
}
